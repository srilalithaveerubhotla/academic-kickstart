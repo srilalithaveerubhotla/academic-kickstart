{
  "nbformat": 4,
  "nbformat_minor": 0,
  "metadata": {
    "colab": {
      "name": "Deep Learning with TensorFlow Chapter-1.ipynb",
      "provenance": [],
      "collapsed_sections": []
    },
    "kernelspec": {
      "name": "python3",
      "display_name": "Python 3"
    },
    "accelerator": "GPU"
  },
  "cells": [
    {
      "cell_type": "markdown",
      "metadata": {
        "id": "EljhoMNMtWFr",
        "colab_type": "text"
      },
      "source": [
        "# TENSORFLOW'S HELLO WORLD"
      ]
    },
    {
      "cell_type": "markdown",
      "metadata": {
        "id": "B8jic0myAoe2",
        "colab_type": "text"
      },
      "source": [
        "## In this Notebook I tried to complete \"HELLO WORLD!\" of tensorflow "
      ]
    },
    {
      "cell_type": "markdown",
      "metadata": {
        "id": "9E27DSNcBFRh",
        "colab_type": "text"
      },
      "source": [
        "## How to Build a graph in TensorFlow ??\n",
        "\n",
        "\n"
      ]
    },
    {
      "cell_type": "code",
      "metadata": {
        "id": "2zfpUuli8HCV",
        "colab_type": "code",
        "colab": {
          "base_uri": "https://localhost:8080/",
          "height": 151
        },
        "outputId": "f07c1199-2918-4983-cb2f-a528f14fa45e"
      },
      "source": [
        "%tensorflow_version\n",
        "import tensorflow.compat.v1 as tf\n",
        "tf.disable_v2_behavior()\n"
      ],
      "execution_count": null,
      "outputs": [
        {
          "output_type": "stream",
          "text": [
            "Currently selected TF version: 2.x\n",
            "Available versions:\n",
            "* 1.x\n",
            "* 2.x\n",
            "WARNING:tensorflow:From /usr/local/lib/python3.6/dist-packages/tensorflow/python/compat/v2_compat.py:96: disable_resource_variables (from tensorflow.python.ops.variable_scope) is deprecated and will be removed in a future version.\n",
            "Instructions for updating:\n",
            "non-resource variables are not supported in the long term\n"
          ],
          "name": "stdout"
        }
      ]
    },
    {
      "cell_type": "code",
      "metadata": {
        "id": "TWDfmWRhBgGn",
        "colab_type": "code",
        "colab": {}
      },
      "source": [
        "graph1 =tf.Graph()"
      ],
      "execution_count": null,
      "outputs": []
    },
    {
      "cell_type": "markdown",
      "metadata": {
        "id": "ztGTBAdxPXvo",
        "colab_type": "text"
      },
      "source": [
        "## BASICS"
      ]
    },
    {
      "cell_type": "code",
      "metadata": {
        "id": "jbU_q48ICc5g",
        "colab_type": "code",
        "colab": {}
      },
      "source": [
        "with graph1.as_default():\n",
        "\n",
        "    a = tf.constant([2], name = 'filthy_a')\n",
        "    b = tf.constant([3], name = 'filthy_b')\n",
        "    #c = tf.constant([10.0],dtype=float,name='filthy_c',shape=(1,2))\n",
        "    c = tf.constant([16.2],dtype=float,name='filthy_c',shape=(1,3))"
      ],
      "execution_count": null,
      "outputs": []
    },
    {
      "cell_type": "code",
      "metadata": {
        "id": "ookSoGLEGgxU",
        "colab_type": "code",
        "colab": {
          "base_uri": "https://localhost:8080/",
          "height": 33
        },
        "outputId": "d44538ee-fd42-4206-ec7d-92d45d37c105"
      },
      "source": [
        "# Printing the value of a\n",
        "sess = tf.Session(graph = graph1)\n",
        "result = sess.run(c)\n",
        "print(result)\n",
        "sess.close()"
      ],
      "execution_count": null,
      "outputs": [
        {
          "output_type": "stream",
          "text": [
            "[[16.2 16.2 16.2]]\n"
          ],
          "name": "stdout"
        }
      ]
    },
    {
      "cell_type": "markdown",
      "metadata": {
        "id": "qTHkw92APayp",
        "colab_type": "text"
      },
      "source": [
        "## BUILD BASIC ELEMENTS"
      ]
    },
    {
      "cell_type": "code",
      "metadata": {
        "id": "bprY98rQNPKA",
        "colab_type": "code",
        "colab": {
          "base_uri": "https://localhost:8080/",
          "height": 602
        },
        "outputId": "454bdfe2-1a8b-4ff9-e131-01c7219533ec"
      },
      "source": [
        "graph3=tf.Graph()\n",
        "with graph3.as_default():\n",
        "\n",
        "  scalar = tf.constant([1], name = 'scalar_filthy')\n",
        "  vector = tf.constant([1,2,3,4,5], name  = 'vector_filthy')\n",
        "  matrix = tf.constant([[1,2,3,4,5],[6,7,8,9,10],[11,12,13,14,15]], name= 'matrix_filthy')\n",
        "  tensor = tf.constant( [ [[1,2,3],[2,3,4],[3,4,5]] , [[4,5,6],[5,6,7],[6,7,8]] , [[7,8,9],[8,9,10],[9,10,11]] ] , name = 'tensor_filthy')\n",
        "\n",
        "with tf.Session(graph=graph3) as sess:\n",
        "  print('see the scalar by tensorflow:\\n %s \\n' % sess.run(scalar))\n",
        "  print('see the vector by tensorflow:\\n %s \\n' %  sess.run(vector))\n",
        "  print('see the matrix by tensorflow:\\n %s \\n' %  sess.run(matrix))\n",
        "  print('see the tensor by tensorflow:\\n %s \\n' %  sess.run(tensor))\n",
        "  print('see the scalar shape by tensorflow:\\n %s \\n' % scalar.shape)\n",
        "  print('see the vector shape by tensorflow:\\n %s \\n' %  vector.shape)\n",
        "  print('see the matrix shape by tensorflow:\\n %s \\n' %  matrix.shape)\n",
        "  print('see the tensor shape by tensorflow:\\n %s \\n' %  tensor.shape)"
      ],
      "execution_count": null,
      "outputs": [
        {
          "output_type": "stream",
          "text": [
            "see the scalar by tensorflow:\n",
            " [1] \n",
            "\n",
            "see the vector by tensorflow:\n",
            " [1 2 3 4 5] \n",
            "\n",
            "see the matrix by tensorflow:\n",
            " [[ 1  2  3  4  5]\n",
            " [ 6  7  8  9 10]\n",
            " [11 12 13 14 15]] \n",
            "\n",
            "see the tensor by tensorflow:\n",
            " [[[ 1  2  3]\n",
            "  [ 2  3  4]\n",
            "  [ 3  4  5]]\n",
            "\n",
            " [[ 4  5  6]\n",
            "  [ 5  6  7]\n",
            "  [ 6  7  8]]\n",
            "\n",
            " [[ 7  8  9]\n",
            "  [ 8  9 10]\n",
            "  [ 9 10 11]]] \n",
            "\n",
            "see the scalar shape by tensorflow:\n",
            " (1,) \n",
            "\n",
            "see the vector shape by tensorflow:\n",
            " (5,) \n",
            "\n",
            "see the matrix shape by tensorflow:\n",
            " (3, 5) \n",
            "\n",
            "see the tensor shape by tensorflow:\n",
            " (3, 3, 3) \n",
            "\n"
          ],
          "name": "stdout"
        }
      ]
    },
    {
      "cell_type": "markdown",
      "metadata": {
        "id": "QdjWV-4ZUKV4",
        "colab_type": "text"
      },
      "source": [
        "## Arithematic Operations"
      ]
    },
    {
      "cell_type": "code",
      "metadata": {
        "id": "wA9AyRQXQTEN",
        "colab_type": "code",
        "colab": {
          "base_uri": "https://localhost:8080/",
          "height": 277
        },
        "outputId": "b5d31021-f7d9-4485-d2b2-0335127fe0ba"
      },
      "source": [
        "graph3 = tf.Graph()\n",
        "\n",
        "with graph3.as_default():\n",
        "    Matrix_one = tf.constant([[1,2,3],[2,3,4],[3,4,5]])\n",
        "    Matrix_two = tf.constant([[2,2,2],[2,2,2],[2,2,2]])\n",
        "    Matrix_three = tf.constant([[3,5,5],[6,6,6],[8,9,10]])\n",
        "\n",
        "    add_1_operation = tf.add(Matrix_one, Matrix_two)\n",
        "    add_2_operation = Matrix_one + Matrix_two\n",
        "\n",
        "    subtract_1_operation = tf.subtract(Matrix_one,Matrix_three)\n",
        "    subtract_2_operation = Matrix_one - Matrix_three\n",
        "\n",
        "\n",
        "with tf.Session(graph =graph3) as sess:\n",
        "    result = sess.run(add_1_operation)\n",
        "    print (\"Defined using tensorflow function :\")\n",
        "    print(result)\n",
        "    result = sess.run(add_2_operation)\n",
        "    print (\"Defined using normal expressions :\")\n",
        "    print(result)\n",
        "    result = sess.run(subtract_1_operation)\n",
        "    print (\"Defined using tensorflow expressions :\")\n",
        "    print(result)\n",
        "    result = sess.run(subtract_2_operation)\n",
        "    print (\"Defined using normal expressions :\")\n",
        "    print(result)"
      ],
      "execution_count": null,
      "outputs": [
        {
          "output_type": "stream",
          "text": [
            "Defined using tensorflow function :\n",
            "[[3 4 5]\n",
            " [4 5 6]\n",
            " [5 6 7]]\n",
            "Defined using normal expressions :\n",
            "[[3 4 5]\n",
            " [4 5 6]\n",
            " [5 6 7]]\n",
            "Defined using tensorflow expressions :\n",
            "[[-2 -3 -2]\n",
            " [-4 -3 -2]\n",
            " [-5 -5 -5]]\n",
            "Defined using normal expressions :\n",
            "[[-2 -3 -2]\n",
            " [-4 -3 -2]\n",
            " [-5 -5 -5]]\n"
          ],
          "name": "stdout"
        }
      ]
    },
    {
      "cell_type": "markdown",
      "metadata": {
        "id": "2DvaZxIqvex7",
        "colab_type": "text"
      },
      "source": [
        "## VARIABLES\n",
        "\n",
        "### Example - 1"
      ]
    },
    {
      "cell_type": "code",
      "metadata": {
        "id": "t9HBEurjvKwR",
        "colab_type": "code",
        "colab": {}
      },
      "source": [
        "v = tf.Variable(0)"
      ],
      "execution_count": null,
      "outputs": []
    },
    {
      "cell_type": "code",
      "metadata": {
        "id": "zqxjtuJqiutc",
        "colab_type": "code",
        "colab": {}
      },
      "source": [
        "update = tf.assign(v, v+1)"
      ],
      "execution_count": null,
      "outputs": []
    },
    {
      "cell_type": "code",
      "metadata": {
        "id": "Pw_Lgv-vz4mM",
        "colab_type": "code",
        "colab": {}
      },
      "source": [
        "init_op = tf.global_variables_initializer()"
      ],
      "execution_count": null,
      "outputs": []
    },
    {
      "cell_type": "code",
      "metadata": {
        "id": "KoEm-fYV0kkL",
        "colab_type": "code",
        "colab": {
          "base_uri": "https://localhost:8080/",
          "height": 196
        },
        "outputId": "8b28ad23-fd78-4d2b-86c3-c2aab17bdc47"
      },
      "source": [
        "with tf.Session() as session:\n",
        "    session.run(init_op)\n",
        "    print(session.run(v))\n",
        "    for _ in range(10):\n",
        "        session.run(update)\n",
        "        print(session.run(v))"
      ],
      "execution_count": null,
      "outputs": [
        {
          "output_type": "stream",
          "text": [
            "0\n",
            "1\n",
            "2\n",
            "3\n",
            "4\n",
            "5\n",
            "6\n",
            "7\n",
            "8\n",
            "9\n",
            "10\n"
          ],
          "name": "stdout"
        }
      ]
    },
    {
      "cell_type": "markdown",
      "metadata": {
        "id": "y_2gqdxzjE6N",
        "colab_type": "text"
      },
      "source": [
        "## PLACEHOLDERS"
      ]
    },
    {
      "cell_type": "code",
      "metadata": {
        "id": "uuZAzNLP2FUm",
        "colab_type": "code",
        "colab": {}
      },
      "source": [
        "a = tf.placeholder(tf.float32)"
      ],
      "execution_count": null,
      "outputs": []
    },
    {
      "cell_type": "code",
      "metadata": {
        "id": "Z5K9dQd1jMlO",
        "colab_type": "code",
        "colab": {}
      },
      "source": [
        "b = a * 2"
      ],
      "execution_count": null,
      "outputs": []
    },
    {
      "cell_type": "code",
      "metadata": {
        "id": "jULQi6iNjOFl",
        "colab_type": "code",
        "colab": {
          "base_uri": "https://localhost:8080/",
          "height": 33
        },
        "outputId": "9815d002-548d-4826-cbad-538f178b097b"
      },
      "source": [
        "with tf.Session() as sess:\n",
        "    result = sess.run(b,feed_dict={a:3.5})\n",
        "    print (result)"
      ],
      "execution_count": null,
      "outputs": [
        {
          "output_type": "stream",
          "text": [
            "7.0\n"
          ],
          "name": "stdout"
        }
      ]
    },
    {
      "cell_type": "code",
      "metadata": {
        "id": "wEqn1JkiwZU6",
        "colab_type": "code",
        "colab": {
          "base_uri": "https://localhost:8080/",
          "height": 163
        },
        "outputId": "6fc124f0-0f92-4589-8f27-9a095edbe9dc"
      },
      "source": [
        "dictionary={a: [ [ [1,2,3],[4,5,6],[7,8,9],[10,11,12] ] , [ [13,14,15],[16,17,18],[19,20,21],[22,23,24] ] ] }\n",
        "\n",
        "with tf.Session() as sess:\n",
        "    result = sess.run(b,feed_dict=dictionary)\n",
        "    print (result)"
      ],
      "execution_count": null,
      "outputs": [
        {
          "output_type": "stream",
          "text": [
            "[[[ 2.  4.  6.]\n",
            "  [ 8. 10. 12.]\n",
            "  [14. 16. 18.]\n",
            "  [20. 22. 24.]]\n",
            "\n",
            " [[26. 28. 30.]\n",
            "  [32. 34. 36.]\n",
            "  [38. 40. 42.]\n",
            "  [44. 46. 48.]]]\n"
          ],
          "name": "stdout"
        }
      ]
    },
    {
      "cell_type": "code",
      "metadata": {
        "id": "OmVpHzK-1of9",
        "colab_type": "code",
        "colab": {}
      },
      "source": [
        ""
      ],
      "execution_count": null,
      "outputs": []
    }
  ]
}